{
 "cells": [
  {
   "cell_type": "code",
   "execution_count": 1,
   "id": "25df1b86-71d0-48ec-afcb-27b0d794ad73",
   "metadata": {},
   "outputs": [],
   "source": [
    "import functools\n",
    "from collections import namedtuple\n",
    "from pathlib import Path\n",
    "\n",
    "from copy import deepcopy\n",
    "\n",
    "import numpy as np\n",
    "\n",
    "from scipy import signal\n",
    "\n",
    "from astropy import units as u\n",
    "from astropy.modeling import models, fitting\n",
    "from astropy.visualization import quantity_support\n",
    "quantity_support()\n",
    "\n",
    "from matplotlib import pyplot as plt\n",
    "\n",
    "from tqdm.notebook import tqdm"
   ]
  },
  {
   "cell_type": "code",
   "execution_count": 2,
   "id": "498ee2c1-de70-442c-adc0-fa511bfe6216",
   "metadata": {},
   "outputs": [
    {
     "name": "stdout",
     "output_type": "stream",
     "text": [
      "Using cuda device with dtype torch.float32\n"
     ]
    }
   ],
   "source": [
    "import torch\n",
    "from torch import nn\n",
    "from torch.utils.data import DataLoader, TensorDataset, random_split\n",
    "\n",
    "device = (\n",
    "    \"cuda\"\n",
    "    if torch.cuda.is_available()\n",
    "    else \"mps\"\n",
    "    if torch.backends.mps.is_available()\n",
    "    else \"cpu\"\n",
    ")\n",
    "tensor_dtype = torch.float32\n",
    "if device == 'cpu':\n",
    "    tensor_dtype = torch.float64\n",
    "\n",
    "if device == 'cuda':\n",
    "    torch.set_float32_matmul_precision('high')\n",
    "    \n",
    "print(f\"Using {device} device with dtype {tensor_dtype}\")"
   ]
  },
  {
   "cell_type": "markdown",
   "id": "8a46ae79-b7cf-46a5-99df-0343b21009d1",
   "metadata": {},
   "source": [
    "# Data Loading"
   ]
  },
  {
   "cell_type": "code",
   "execution_count": 3,
   "id": "676e6f45-cb90-4a5c-943e-402ab8350d33",
   "metadata": {},
   "outputs": [
    {
     "data": {
      "text/plain": [
       "7508"
      ]
     },
     "execution_count": 3,
     "metadata": {},
     "output_type": "execute_result"
    }
   ],
   "source": [
    "alltensorpaths = list(Path('resampled_tensors').glob('*_2k.pt'))\n",
    "len(alltensorpaths)"
   ]
  },
  {
   "cell_type": "code",
   "execution_count": 4,
   "id": "dcaeb7df-7fac-44dc-a017-9f311dcfeca1",
   "metadata": {},
   "outputs": [
    {
     "data": {
      "application/vnd.jupyter.widget-view+json": {
       "model_id": "a8f8c3b3fc994d2b8f973a5822d72de0",
       "version_major": 2,
       "version_minor": 0
      },
      "text/plain": [
       "  0%|          | 0/7508 [00:00<?, ?it/s]"
      ]
     },
     "metadata": {},
     "output_type": "display_data"
    }
   ],
   "source": [
    "headers = []\n",
    "wls = []\n",
    "fluxes = []\n",
    "\n",
    "for pth in tqdm(alltensorpaths):\n",
    "    data = torch.load(pth, weights_only=True)\n",
    "    headers.append(data['header'])\n",
    "    wls.append(data['wl'])\n",
    "    fluxes.append(data['flux'])\n",
    "\n",
    "fluxes = torch.stack(fluxes)"
   ]
  },
  {
   "cell_type": "code",
   "execution_count": 5,
   "id": "fcf6ab2f-a5c8-4fdc-8d0d-895f34a2c252",
   "metadata": {},
   "outputs": [],
   "source": [
    "assert torch.all(torch.stack(wls)==wls[0])\n",
    "wl = wls[0]\n",
    "del wls"
   ]
  },
  {
   "cell_type": "code",
   "execution_count": 6,
   "id": "aea59296-f7f8-41a2-88c9-2e8683c25b18",
   "metadata": {},
   "outputs": [],
   "source": [
    "teff = torch.tensor([h['PHXTEFF'] for h in headers])\n",
    "logg = torch.tensor([h['PHXLOGG'] for h in headers])\n",
    "feh = torch.tensor([h['PHXM_H'] for h in headers])\n",
    "\n",
    "infeatures = torch.stack([teff,logg,feh], dim=1)\n",
    "infeature_names = 'Teff,logg,FeH'.split(',')"
   ]
  },
  {
   "cell_type": "markdown",
   "id": "63ea58b4-d372-4ac7-8a68-10a7e4a63d57",
   "metadata": {},
   "source": [
    "make a version of the outputs that are scaled by bb"
   ]
  },
  {
   "cell_type": "code",
   "execution_count": 7,
   "id": "99fd0360-26a5-41db-9de0-41a23685b263",
   "metadata": {},
   "outputs": [
    {
     "data": {
      "application/vnd.jupyter.widget-view+json": {
       "model_id": "aea65ce304ab4d1887827eb4adeb3710",
       "version_major": 2,
       "version_minor": 0
      },
      "text/plain": [
       "  0%|          | 0/7508 [00:00<?, ?it/s]"
      ]
     },
     "metadata": {},
     "output_type": "display_data"
    }
   ],
   "source": [
    "bbfluxes = []\n",
    "for hdr in tqdm(headers):\n",
    "    bb = models.BlackBody(temperature=hdr['PHXTEFF']*u.K, scale=1*u.erg/u.s * u.cm**-3 / u.sr)\n",
    "    flux = bb(wl << u.angstrom)*(np.pi*u.sr)\n",
    "    bbfluxes.append(flux.to(u.erg/u.s * u.cm**-3).value)\n",
    "bbfluxes = torch.from_numpy(np.array(bbfluxes))\n",
    "\n",
    "bbmean = bbfluxes.mean(axis=-1)\n",
    "\n",
    "bbsimplescale = fluxes/bbmean[...,None] - 1\n",
    "\n",
    "def bbsimple_descale(scaled_spec, teff, wl=wl):\n",
    "    if isinstance(teff, torch.Tensor):\n",
    "        teff = teff.cpu().detach().numpy() << u.K\n",
    "    teff = np.atleast_1d(teff)\n",
    "    bb = models.BlackBody(temperature=teff, scale=1*u.erg/u.s * u.cm**-3 / u.sr)\n",
    "    flux = bb(wl[...,None]  << u.angstrom)*(np.pi*u.sr)\n",
    "    bbmean = flux.mean(axis=0)\n",
    "    \n",
    "    scaled_spec = torch.atleast_2d(scaled_spec)\n",
    "    return (scaled_spec + 1)*bbmean[...,None]"
   ]
  },
  {
   "cell_type": "markdown",
   "id": "2490ff2c-836c-4dca-89ae-096cd5320cac",
   "metadata": {},
   "source": [
    "# Transformer-based model"
   ]
  },
  {
   "cell_type": "code",
   "execution_count": 8,
   "id": "eb924936-c8b7-4e90-b64c-f4a884c6970b",
   "metadata": {},
   "outputs": [],
   "source": [
    "# note this assumes all batches have identical encodings, so there is not a batch dimension\n",
    "class SinusoidalEncoding(nn.Module):\n",
    "    def __init__(self, n, d_model):\n",
    "        super().__init__()\n",
    "\n",
    "        freq = torch.exp(torch.arange(0, d_model, 2) * (-np.log(10000) / d_model))\n",
    "        \n",
    "        t = torch.arange(n)[..., None]\n",
    "        encoding_vector = torch.zeros(n, d_model)\n",
    "        encoding_vector[:, 0::2] = torch.sin(t * freq)\n",
    "        encoding_vector[:, 1::2] = torch.cos(t * freq)\n",
    "\n",
    "        self.register_buffer('encoding_vector', encoding_vector)\n",
    "\n",
    "    def forward(self, x):\n",
    "        xt = x.tile(self.encoding_vector.shape[-1]).reshape(*self.encoding_vector.shape)\n",
    "        return xt + self.encoding_vector "
   ]
  },
  {
   "cell_type": "code",
   "execution_count": 9,
   "id": "6ee644a7-72f6-4318-9687-31d4f364d901",
   "metadata": {},
   "outputs": [
    {
     "name": "stdout",
     "output_type": "stream",
     "text": [
      "5.301505 M parameters\n",
      "CPU times: user 34.8 ms, sys: 34.9 ms, total: 69.7 ms\n",
      "Wall time: 70.1 ms\n",
      "CPU times: user 7.11 ms, sys: 0 ns, total: 7.11 ms\n",
      "Wall time: 7.14 ms\n",
      "CPU times: user 26.4 ms, sys: 956 μs, total: 27.4 ms\n",
      "Wall time: 27.5 ms\n"
     ]
    },
    {
     "data": {
      "text/plain": [
       "SpectrumTransformer(\n",
       "  (feature_embedding): Sequential(\n",
       "    (0): Linear(in_features=3, out_features=128, bias=True)\n",
       "    (1): GELU(approximate='none')\n",
       "    (2): Linear(in_features=128, out_features=256, bias=True)\n",
       "  )\n",
       "  (position_encoding): SinusoidalEncoding()\n",
       "  (trans_decoder): TransformerDecoder(\n",
       "    (layers): ModuleList(\n",
       "      (0-4): 5 x TransformerDecoderLayer(\n",
       "        (self_attn): MultiheadAttention(\n",
       "          (out_proj): NonDynamicallyQuantizableLinear(in_features=256, out_features=256, bias=True)\n",
       "        )\n",
       "        (multihead_attn): MultiheadAttention(\n",
       "          (out_proj): NonDynamicallyQuantizableLinear(in_features=256, out_features=256, bias=True)\n",
       "        )\n",
       "        (linear1): Linear(in_features=256, out_features=1024, bias=True)\n",
       "        (dropout): Dropout(p=0, inplace=False)\n",
       "        (linear2): Linear(in_features=1024, out_features=256, bias=True)\n",
       "        (norm1): LayerNorm((256,), eps=1e-05, elementwise_affine=True)\n",
       "        (norm2): LayerNorm((256,), eps=1e-05, elementwise_affine=True)\n",
       "        (norm3): LayerNorm((256,), eps=1e-05, elementwise_affine=True)\n",
       "        (dropout1): Dropout(p=0, inplace=False)\n",
       "        (dropout2): Dropout(p=0, inplace=False)\n",
       "        (dropout3): Dropout(p=0, inplace=False)\n",
       "        (activation): GELU(approximate='none')\n",
       "      )\n",
       "    )\n",
       "    (norm): LayerNorm((256,), eps=1e-05, elementwise_affine=True)\n",
       "  )\n",
       "  (output_layer): Linear(in_features=256, out_features=1, bias=True)\n",
       ")"
      ]
     },
     "execution_count": 9,
     "metadata": {},
     "output_type": "execute_result"
    }
   ],
   "source": [
    "class SpectrumTransformer(nn.Module):\n",
    "    def __init__(self, \n",
    "                 ninfeatures: int, \n",
    "                 spec_wls,\n",
    "                 d_model: int, # dimensionality of the transformer hidden states\n",
    "                 nhead: int, # number of attention heads, d_model must be divisible by this\n",
    "                 n_decoder_layers: int, # number of transformer decoder layers\n",
    "                 dim_feedforward: int, # number of neurons in transformer feedforward layers\n",
    "                 dropout: float=0, # dropout for transformer\n",
    "                 nonlinear_cls=nn.GELU, # the class for the activation layers in MLPs \n",
    "                 nneurons_feature_embedding=None, # the number of features in the embeddeing, or None for d_model / 2\n",
    "                 sinusoidal_pe:bool = True, # otherwise trainable embedding\n",
    "                 use_wl_for_pe: bool = True,\n",
    "                ):\n",
    "        super().__init__()\n",
    "        \n",
    "        self.register_buffer('spec_wls', torch.Tensor(spec_wls).to(torch.get_default_dtype()))  # also sets the number of pixels\n",
    "        self.d_model = d_model\n",
    "        self.use_wl_for_pe = use_wl_for_pe\n",
    "\n",
    "        if nneurons_feature_embedding is None:\n",
    "            nneurons_feature_embedding = d_model // 2\n",
    "        self.feature_embedding = nn.Sequential(\n",
    "            nn.Linear(ninfeatures, nneurons_feature_embedding),\n",
    "            nonlinear_cls(),\n",
    "            nn.Linear(nneurons_feature_embedding, d_model)\n",
    "        )\n",
    "\n",
    "        if sinusoidal_pe:\n",
    "            self.position_encoding = SinusoidalEncoding(self.npixels, d_model)\n",
    "        else:\n",
    "            self.position_encoding = nn.Embedding(self.npixels, d_model)\n",
    "\n",
    "\n",
    "        decoder_layer = nn.TransformerDecoderLayer(d_model,\n",
    "                                                   nhead, \n",
    "                                                   dim_feedforward, \n",
    "                                                   dropout,\n",
    "                                                   nonlinear_cls(),\n",
    "                                                   batch_first=True,\n",
    "                                                   norm_first=True)\n",
    "        last_decoder_norm = nn.LayerNorm(d_model) \n",
    "        self.trans_decoder = nn.TransformerDecoder(decoder_layer, n_decoder_layers, last_decoder_norm)\n",
    "\n",
    "        self.output_layer = nn.Linear(d_model, 1) # each pixel is a scalar\n",
    "        \n",
    "    @property\n",
    "    def npixels(self):\n",
    "        return self.spec_wls.shape[0]\n",
    "\n",
    "    def forward(self, x, in_convert=True):\n",
    "        if in_convert:\n",
    "            x = self.convert_input(x)\n",
    "        \n",
    "        feature_embedded = self.feature_embedding(x)\n",
    "        if self.use_wl_for_pe:\n",
    "            pcode_wls = self.position_encoding(self.spec_wls)\n",
    "        else:\n",
    "            pcode_wls = self.position_encoding(torch.zeros_like(self.spec_wls))\n",
    "\n",
    "        # the transformer expects an inner dimension for long token applications (?), so we just make a dimension 1 here\n",
    "        transformer_features = feature_embedded[:, None, :]\n",
    "        transformer_pcode = pcode_wls[None, :].expand(transformer_features.shape[0], -1, -1)\n",
    "        \n",
    "        transformed = self.trans_decoder(tgt=transformer_pcode, memory=transformer_features, \n",
    "                                         tgt_is_causal=False, memory_is_causal=False)\n",
    "\n",
    "        return self.output_layer(transformed).squeeze(-1)\n",
    "    \n",
    "    @property\n",
    "    def device(self):\n",
    "        return next(self.parameters()).device         \n",
    "\n",
    "    @property\n",
    "    def dtype(self):\n",
    "        return next(self.parameters()).dtype\n",
    "\n",
    "    def convert_input(self, t):\n",
    "        return torch.atleast_2d(t).to(self.device, dtype=self.dtype)\n",
    "\n",
    "model = SpectrumTransformer(\n",
    "                    ninfeatures=3, \n",
    "                    spec_wls=wl, \n",
    "                    d_model=256, \n",
    "                    nhead=8, \n",
    "                    n_decoder_layers=5, \n",
    "                    dim_feedforward=1024,\n",
    "                    dropout=0\n",
    ").to(dtype=tensor_dtype, device=device)\n",
    "\n",
    "print(sum(p.numel() for p in model.parameters() if p.requires_grad)*10**-6, 'M parameters')\n",
    "\n",
    "\n",
    "# do some timing tests and two-batch execution\n",
    "model.eval()\n",
    "\n",
    "%time model(torch.Tensor([1,2,3])).detach().cpu().numpy()\n",
    "%time model(torch.Tensor([1,2,3])).detach().cpu().numpy()\n",
    "\n",
    "%time model(torch.Tensor([[1,2,3], [4,5,6], [1,2,3], [4,5,6]])).detach().cpu().numpy()\n",
    "\n",
    "model"
   ]
  },
  {
   "cell_type": "code",
   "execution_count": 10,
   "id": "e1343be9-2e81-4482-8e53-54a77e88387e",
   "metadata": {},
   "outputs": [],
   "source": [
    "split_seed = 42\n",
    "\n",
    "infeatures_stded = (infeatures - infeatures.mean(0))/infeatures.std(0)\n",
    "\n",
    "test_data, train_data = random_split(\n",
    "    TensorDataset(infeatures_stded.to(dtype=tensor_dtype, device=device), \n",
    "                  bbsimplescale.to(dtype=tensor_dtype, device=device)), \n",
    "    [.3, .7],\n",
    "    torch.Generator().manual_seed(split_seed)\n",
    ")"
   ]
  },
  {
   "cell_type": "code",
   "execution_count": 11,
   "id": "fc87d0bf-e37e-44a9-abd5-45cac3bcbfa4",
   "metadata": {},
   "outputs": [
    {
     "name": "stdout",
     "output_type": "stream",
     "text": [
      "0.802689 M parameters\n"
     ]
    },
    {
     "data": {
      "application/vnd.jupyter.widget-view+json": {
       "model_id": "e9998a36b0ff423e9dd1ed5790ad3ddd",
       "version_major": 2,
       "version_minor": 0
      },
      "text/plain": [
       "  0%|          | 0/5 [00:00<?, ?it/s]"
      ]
     },
     "metadata": {},
     "output_type": "display_data"
    }
   ],
   "source": [
    "nepochs = 5\n",
    "batch_size = 128\n",
    "\n",
    "model = SpectrumTransformer(\n",
    "                    ninfeatures=3, \n",
    "                    spec_wls=wl, \n",
    "                    d_model=128, \n",
    "                    nhead=4, \n",
    "                    n_decoder_layers=3, \n",
    "                    dim_feedforward=512,\n",
    "                    dropout=0.1,\n",
    "                    use_wl_for_pe=False\n",
    ").to(dtype=tensor_dtype, device=device)\n",
    "\n",
    "print(sum(p.numel() for p in model.parameters() if p.requires_grad)*10**-6, 'M parameters')\n",
    "\n",
    "optimizer = torch.optim.AdamW(model.parameters(), \n",
    "                              lr=1e-3, \n",
    "                              weight_decay=1e-5)\n",
    "scheduler = None\n",
    "\n",
    "loss_fcn = nn.MSELoss()\n",
    "\n",
    "train_losses = []\n",
    "train_niters = []\n",
    "test_losses = []\n",
    "test_niters = []\n",
    "lrs = []\n",
    "niters = 0\n",
    "for _ in (pbar := tqdm(range(nepochs))):\n",
    "    model.train()\n",
    "\n",
    "    for data in DataLoader(train_data, batch_size=batch_size, shuffle=True):\n",
    "        X, Y = data[:2]\n",
    "        optimizer.zero_grad()\n",
    "        \n",
    "        pred = model(X, in_convert=False)\n",
    "        loss = loss_fcn(pred, Y)\n",
    "        \n",
    "        loss.backward()\n",
    "        optimizer.step()\n",
    "\n",
    "        niters += X.shape[0]\n",
    "        \n",
    "        train_losses.append(loss.item())\n",
    "        train_niters.append(niters)\n",
    "\n",
    "    if scheduler is not None:\n",
    "        scheduler.step()\n",
    "        lrs.append(scheduler.get_last_lr())\n",
    "    else:\n",
    "        lrs.append(optimizer.param_groups[0]['lr'])\n",
    "    \n",
    "    model.eval()\n",
    "    with torch.no_grad():\n",
    "        n = 0\n",
    "        cumloss = 0\n",
    "        for Xt, Yt in DataLoader(test_data, batch_size=batch_size):\n",
    "            predt = model(Xt)\n",
    "            cumloss += loss_fcn(Yt, predt).item()*len(predt)\n",
    "            n += len(predt)\n",
    "    \n",
    "        test_losses.append(cumloss/n)\n",
    "        test_niters.append(niters)\n",
    "    \n",
    "    pbar.set_description(f'test loss={test_losses[-1]:.3e}, lr={lrs[-1]:.3e}')"
   ]
  },
  {
   "cell_type": "code",
   "execution_count": 12,
   "id": "643f9b24-bcb1-45ae-a904-d5730b468d25",
   "metadata": {},
   "outputs": [
    {
     "data": {
      "text/plain": [
       "<matplotlib.legend.Legend at 0x7f2d6f7de490>"
      ]
     },
     "execution_count": 12,
     "metadata": {},
     "output_type": "execute_result"
    },
    {
     "data": {
      "image/png": "[encoded data removed]",
      "text/plain": [
       "<Figure size 640x480 with 1 Axes>"
      ]
     },
     "metadata": {},
     "output_type": "display_data"
    }
   ],
   "source": [
    "plt.figure()\n",
    "plt.semilogy(test_niters, test_losses, 'o', c='C0', label='test')\n",
    "plt.semilogy(train_niters, train_losses, '.', c='C1', ms=1, label='training')\n",
    "plt.legend(loc=0)\n",
    "# if lrs:\n",
    "#     plt.twinx()\n",
    "#     plt.plot(valid[0], lrs, label='learning rate',c='C2', alpha=.5)\n",
    "#     plt.ylabel('learning rate', color='C2')\n"
   ]
  },
  {
   "cell_type": "code",
   "execution_count": 13,
   "id": "53523d0b-5f5a-47e8-a3cc-a90ebface71e",
   "metadata": {},
   "outputs": [
    {
     "data": {
      "text/plain": [
       "[<matplotlib.lines.Line2D at 0x7f2d3c42e250>]"
      ]
     },
     "execution_count": 13,
     "metadata": {},
     "output_type": "execute_result"
    },
    {
     "data": {
      "image/png": "[encoded data removed]",
      "text/plain": [
       "<Figure size 640x480 with 1 Axes>"
      ]
     },
     "metadata": {},
     "output_type": "display_data"
    }
   ],
   "source": [
    "plt.plot(wl, predt[-1].detach().cpu())\n",
    "plt.plot(wl, Yt[-1].detach().cpu())"
   ]
  }
 ],
 "metadata": {
  "kernelspec": {
   "display_name": "Python 3 (ipykernel)",
   "language": "python",
   "name": "python3"
  },
  "language_info": {
   "codemirror_mode": {
    "name": "ipython",
    "version": 3
   },
   "file_extension": ".py",
   "mimetype": "text/x-python",
   "name": "python",
   "nbconvert_exporter": "python",
   "pygments_lexer": "ipython3",
   "version": "3.11.6"
  }
 },
 "nbformat": 4,
 "nbformat_minor": 5
}
