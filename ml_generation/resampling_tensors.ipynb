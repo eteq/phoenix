{
 "cells": [
  {
   "cell_type": "code",
   "execution_count": 1,
   "id": "43405299-0afd-4366-a2c8-8c2a6fadc76e",
   "metadata": {},
   "outputs": [],
   "source": [
    "import multiprocessing\n",
    "from pathlib import Path\n",
    "from copy import deepcopy\n",
    "from collections import Counter\n",
    "import functools\n",
    "\n",
    "import numpy as np\n",
    "\n",
    "from astropy import units as u\n",
    "from astropy import constants as cnst\n",
    "from astropy.io import fits\n",
    "from astropy import modeling\n",
    "\n",
    "from specutils import Spectrum1D, manipulation\n",
    "\n",
    "from astropy.visualization import quantity_support\n",
    "quantity_support()\n",
    "\n",
    "from matplotlib import pyplot as plt\n",
    "\n",
    "from tqdm.auto import tqdm"
   ]
  },
  {
   "cell_type": "code",
   "execution_count": 2,
   "id": "135d2de2-fce3-4c77-8e21-fd8815adbe45",
   "metadata": {},
   "outputs": [
    {
     "name": "stdout",
     "output_type": "stream",
     "text": [
      "Using cpu device\n"
     ]
    }
   ],
   "source": [
    "import torch\n",
    "from torch import nn\n",
    "from torch.utils.data import DataLoader, TensorDataset\n",
    "\n",
    "device = (\n",
    "    \"cuda\"\n",
    "    if torch.cuda.is_available()\n",
    "    else \"mps\"\n",
    "    if torch.backends.mps.is_available()\n",
    "    else \"cpu\"\n",
    ")\n",
    "print(f\"Using {device} device\")"
   ]
  },
  {
   "cell_type": "code",
   "execution_count": 3,
   "id": "979bf175-ec9e-42a4-a465-7d4b194fcc9a",
   "metadata": {},
   "outputs": [],
   "source": [
    "datapath = Path('../fullgrid/')"
   ]
  },
  {
   "cell_type": "code",
   "execution_count": 4,
   "id": "12b046b9-c6f1-4d57-a6e5-88fdf2e33928",
   "metadata": {},
   "outputs": [
    {
     "data": {
      "text/plain": [
       "(<Quantity [  500.  ,   500.1 ,   500.2 , ..., 54999.25, 54999.5 , 54999.75] Angstrom>,\n",
       " 1569128)"
      ]
     },
     "execution_count": 4,
     "metadata": {},
     "output_type": "execute_result"
    }
   ],
   "source": [
    "wlspath = datapath / 'WAVE_PHOENIX-ACES-AGSS-COND-2011.fits'\n",
    "\n",
    "wlsraw = fits.getdata(wlspath)\n",
    "model_wls = wlsraw << u.Unit(fits.getheader(wlspath)['UNIT'])\n",
    "\n",
    "model_wls, len(model_wls)"
   ]
  },
  {
   "cell_type": "code",
   "execution_count": 5,
   "id": "5b532a12-9080-4eab-abec-dcf6b50a1878",
   "metadata": {},
   "outputs": [
    {
     "data": {
      "text/plain": [
       "7559"
      ]
     },
     "execution_count": 5,
     "metadata": {},
     "output_type": "execute_result"
    }
   ],
   "source": [
    "allspecpaths = list(datapath.glob('lte*HiRes.fits'))\n",
    "len(allspecpaths)"
   ]
  },
  {
   "cell_type": "code",
   "execution_count": 6,
   "id": "afb6514e-fed0-4134-a32d-328589bf3933",
   "metadata": {},
   "outputs": [
    {
     "data": {
      "text/plain": [
       "Counter({'erg/s/cm^2/cm': 7508, None: 51})"
      ]
     },
     "execution_count": 6,
     "metadata": {},
     "output_type": "execute_result"
    }
   ],
   "source": [
    "units = []\n",
    "for path in allspecpaths:\n",
    "    try:\n",
    "        unit = fits.getval(path, 'BUNIT')\n",
    "    except KeyError:\n",
    "        unit = None\n",
    "    units.append(unit)\n",
    "\n",
    "Counter(units)"
   ]
  },
  {
   "cell_type": "code",
   "execution_count": 7,
   "id": "a91a0f5d-c430-44c3-bb53-75b01bced40d",
   "metadata": {},
   "outputs": [
    {
     "name": "stdout",
     "output_type": "stream",
     "text": [
      "SIMPLE  =                    T / conforms to FITS standard                      \n",
      "BITPIX  =                  -32 / array data type                                \n",
      "NAXIS   =                    1 / number of array dimensions                     \n",
      "NAXIS1  =              1569128                                                  \n",
      "EXTEND  =                    T                                                  \n",
      "EXTNAME = 'PRIMARY '                                                            \n",
      "WAVE    = '../../WAVE_PHOENIX-ACES-AGSS-COND-2011.fits' / Wavelength array      \n",
      "PHXTEFF =               2300.0 / [K] effective temperature                      \n",
      "PHXLOGG =                  0.0 / [cm/s^2] log (surface gravity)                 \n",
      "PHXM_H  =                  0.5 / [M/H] metallicity (rel. sol. - Asplund &a 2009)\n",
      "PHXALPHA=                  0.0 / [a/M] alpha element enhancement                \n",
      "PHXDUST =                    F / Dust in atmosphere                             \n",
      "PHXEOS  = 'ACES    '           / Equation of state                              \n",
      "PHXBUILD= '02/Aug/2010'        / Build date of Phoenix                          \n",
      "PHXVER  = '16.01.00B'          / Phoenix version                                \n",
      "DATE    = '2012-03-16 15:16:21' / [local] finishing date of model calculation   \n",
      "PHXXI_L =                  0.0 / [km/s] microturbulence velocity for LTE lines  \n",
      "PHXXI_M =                  0.0 / [km/s] microturbulence velocity for molec lines\n",
      "PHXXI_N =                  0.0 / [km/s] microturbulence velocity for NLTE lines \n",
      "PHXMASS =           1.5802E+33 / [kg] Stellar mass                              \n",
      "PHXREFF =     10266000000000.0 / [cm] Effective stellar radius                  \n",
      "PHXLUM  =           2.1025E+36 / [W] Stellar luminosity                         \n",
      "PHXMXLEN=                  1.0 / Mixing length                                  \n",
      "PHXCONV =                    F / Convection enabled                             \n",
      "BUNIT   = 'erg/s/cm^2/cm'      / Unit of flux                                   \n",
      "\n",
      "SIMPLE  =                    T / file does conform to FITS standard             \n",
      "BITPIX  =                  -32 / number of bits per data pixel                  \n",
      "NAXIS   =                    1 / number of data axes                            \n",
      "NAXIS1  =              1569128 / length of data axis 1                          \n",
      "EXTEND  =                    T / FITS dataset may contain extensions            \n",
      "COMMENT   FITS (Flexible Image Transport System) format is defined in 'Astronomy\n",
      "COMMENT   and Astrophysics', volume 376, page 359; bibcode: 2001A&A...376..359H \n",
      "WAVE    = '../../WAVE_PHOENIX-ACES-AGSS-COND-2011.fits'                         \n",
      "PHXTEFF =               2600.0 / [K] effective temperature                      \n",
      "PHXLOGG =                  0.5 / [cm/s^2] log (surface gravity)                 \n",
      "PHXM_H  =                  1.0 / [M/H] metallicity (rel. sol. - Asplund &a 2009)\n",
      "PHXALPHA=                  0.0 / [a/M] alpha element enhancement                \n",
      "DATE    = '2013-04-03 13:39:53' / [local] finishing date of model calculation   \n",
      "INTERPOL=                    T / T if spectrum is result of interpolation       \n",
      "\n"
     ]
    }
   ],
   "source": [
    "p1 = p2 = True\n",
    "for path,unit in zip(allspecpaths, units):\n",
    "    if p1 and unit is None:\n",
    "        p1 = False\n",
    "        print(repr(fits.getheader(path, 0)))\n",
    "        print('')\n",
    "    if p2 and unit is not None:\n",
    "        p2 = False\n",
    "        print(repr(fits.getheader(path, 0)))\n",
    "        print('')"
   ]
  },
  {
   "cell_type": "markdown",
   "id": "3b63fbc4-903d-47eb-b51d-4ae14a25815d",
   "metadata": {},
   "source": [
    "Some have no unit, which seems to be interpolated? But most have something that make sense so we will assume that:"
   ]
  },
  {
   "cell_type": "code",
   "execution_count": 8,
   "id": "e1973ae9-1077-4581-8775-1696b1d63e15",
   "metadata": {},
   "outputs": [
    {
     "name": "stderr",
     "output_type": "stream",
     "text": [
      "WARNING: UnitsWarning: 'erg/s/cm^2/cm' contains multiple slashes, which is discouraged by the FITS standard [astropy.units.format.generic]\n"
     ]
    }
   ],
   "source": [
    "unitss = set(units)\n",
    "unitss.remove(None)\n",
    "assert len(unitss) == 1\n",
    "specunit = u.Unit(unitss.pop())"
   ]
  },
  {
   "cell_type": "markdown",
   "id": "d0b45f8b-fd6e-4eee-880b-8052384ad731",
   "metadata": {},
   "source": [
    "This wavelength is roughly covering the NIRSpec data at ~ 2x oversampling"
   ]
  },
  {
   "cell_type": "code",
   "execution_count": 9,
   "id": "4e49990f-533a-48d6-969a-9f216415fa58",
   "metadata": {},
   "outputs": [],
   "source": [
    "data_wls = np.linspace(9000, 19500, 16384) *u.angstrom"
   ]
  },
  {
   "cell_type": "markdown",
   "id": "b8afc5af-94e0-4915-a778-dffcc2bab24c",
   "metadata": {},
   "source": [
    "# Experiment with saving a single spectrum"
   ]
  },
  {
   "cell_type": "code",
   "execution_count": 10,
   "id": "e82c90ac-5542-4c1e-bd29-2b4edf9194ef",
   "metadata": {},
   "outputs": [],
   "source": [
    "resampler = manipulation.FluxConservingResampler()"
   ]
  },
  {
   "cell_type": "code",
   "execution_count": 11,
   "id": "68a45b47-ad2a-407d-baba-c0adbee20690",
   "metadata": {},
   "outputs": [
    {
     "name": "stdout",
     "output_type": "stream",
     "text": [
      "CPU times: user 467 ms, sys: 14.6 ms, total: 482 ms\n",
      "Wall time: 483 ms\n"
     ]
    }
   ],
   "source": [
    "%%time\n",
    "\n",
    "spec = Spectrum1D(spectral_axis=model_wls, flux=fits.getdata(allspecpaths[0], ext=0) << specunit)\n",
    "header = dict(fits.getheader(allspecpaths[0], ext=0))\n",
    "newspec = resampler(spec, data_wls)"
   ]
  },
  {
   "cell_type": "code",
   "execution_count": 12,
   "id": "4cae1936-07b1-4594-9383-d898d94858bf",
   "metadata": {},
   "outputs": [
    {
     "name": "stdout",
     "output_type": "stream",
     "text": [
      "CPU times: user 250 μs, sys: 892 μs, total: 1.14 ms\n",
      "Wall time: 654 μs\n"
     ]
    }
   ],
   "source": [
    "%%time \n",
    "totensor = torch.tensor(newspec.flux.value)"
   ]
  },
  {
   "cell_type": "code",
   "execution_count": 13,
   "id": "3632e844-66fc-4f26-ae57-d93ac15b6371",
   "metadata": {},
   "outputs": [
    {
     "name": "stdout",
     "output_type": "stream",
     "text": [
      "CPU times: user 117 μs, sys: 17 μs, total: 134 μs\n",
      "Wall time: 138 μs\n"
     ]
    }
   ],
   "source": [
    "%%time\n",
    "tosingle = totensor.to(torch.float32)"
   ]
  },
  {
   "cell_type": "code",
   "execution_count": 14,
   "id": "51402419-5163-4069-9496-888a60e4726a",
   "metadata": {},
   "outputs": [
    {
     "name": "stdout",
     "output_type": "stream",
     "text": [
      "CPU times: user 0 ns, sys: 1.11 ms, total: 1.11 ms\n",
      "Wall time: 876 μs\n"
     ]
    }
   ],
   "source": [
    "%%time\n",
    "\n",
    "pth = Path('test.pt')\n",
    "data = {'header':header, 'wl':torch.tensor(data_wls), 'flux': totensor}\n",
    "torch.save(data, pth)"
   ]
  },
  {
   "cell_type": "code",
   "execution_count": 15,
   "id": "14156afc-fe4b-4f40-a882-4c656a06c851",
   "metadata": {},
   "outputs": [
    {
     "data": {
      "text/plain": [
       "1903.6341953277588"
      ]
     },
     "execution_count": 15,
     "metadata": {},
     "output_type": "execute_result"
    }
   ],
   "source": [
    "pth.stat().st_size * len(allspecpaths) *  2**-20  #MB for the full set of spectra"
   ]
  },
  {
   "cell_type": "code",
   "execution_count": 16,
   "id": "05354c5b-ba0e-45cc-9fe2-da5167a9e941",
   "metadata": {},
   "outputs": [
    {
     "name": "stdout",
     "output_type": "stream",
     "text": [
      "CPU times: user 1.13 ms, sys: 22 μs, total: 1.16 ms\n",
      "Wall time: 977 μs\n"
     ]
    },
    {
     "data": {
      "text/plain": [
       "{'header': {'SIMPLE': True,\n",
       "  'BITPIX': -32,\n",
       "  'NAXIS': 1,\n",
       "  'NAXIS1': 1569128,\n",
       "  'EXTEND': True,\n",
       "  'EXTNAME': 'PRIMARY',\n",
       "  'WAVE': '../../WAVE_PHOENIX-ACES-AGSS-COND-2011.fits',\n",
       "  'PHXTEFF': 2300.0,\n",
       "  'PHXLOGG': 0.0,\n",
       "  'PHXM_H': 0.5,\n",
       "  'PHXALPHA': 0.0,\n",
       "  'PHXDUST': False,\n",
       "  'PHXEOS': 'ACES',\n",
       "  'PHXBUILD': '02/Aug/2010',\n",
       "  'PHXVER': '16.01.00B',\n",
       "  'DATE': '2012-03-16 15:16:21',\n",
       "  'PHXXI_L': 0.0,\n",
       "  'PHXXI_M': 0.0,\n",
       "  'PHXXI_N': 0.0,\n",
       "  'PHXMASS': 1.5802e+33,\n",
       "  'PHXREFF': 10266000000000.0,\n",
       "  'PHXLUM': 2.1025e+36,\n",
       "  'PHXMXLEN': 1.0,\n",
       "  'PHXCONV': False,\n",
       "  'BUNIT': 'erg/s/cm^2/cm'},\n",
       " 'wl': tensor([ 9000.0000,  9000.6409,  9001.2818,  ..., 19498.7182, 19499.3591,\n",
       "         19500.0000], dtype=torch.float64),\n",
       " 'flux': tensor([3.5468e+12, 4.1099e+12, 2.4918e+12,  ..., 5.1086e+12, 2.5230e+12,\n",
       "         2.4912e+12], dtype=torch.float64)}"
      ]
     },
     "execution_count": 16,
     "metadata": {},
     "output_type": "execute_result"
    }
   ],
   "source": [
    "%%time\n",
    "\n",
    "torch.load('test.pt', weights_only=True)"
   ]
  },
  {
   "cell_type": "code",
   "execution_count": 17,
   "id": "affb3436-edd9-4a91-a378-eb359460d005",
   "metadata": {},
   "outputs": [
    {
     "data": {
      "text/plain": [
       "'lte02300-0.00+0.5'"
      ]
     },
     "execution_count": 17,
     "metadata": {},
     "output_type": "execute_result"
    }
   ],
   "source": [
    "allspecpaths[0].name.split('.PHOENIX')[0]"
   ]
  },
  {
   "cell_type": "markdown",
   "id": "c1d6f4ad-cca8-4360-9962-31a02c58e72f",
   "metadata": {},
   "source": [
    "# Writing out the tensors"
   ]
  },
  {
   "cell_type": "code",
   "execution_count": 15,
   "id": "c407dc1f-1308-4c3a-b79e-f3bddc059a90",
   "metadata": {},
   "outputs": [],
   "source": [
    "resampler = manipulation.FluxConservingResampler()\n",
    "data_wls = np.linspace(9000, 19500, 16384) *u.angstrom\n",
    "outdir = Path('resampled_tensors')\n",
    "outdir.mkdir(exist_ok=True)\n",
    "\n",
    "def interpolate_and_save_spectrum(specpath, data_wls=data_wls, resampler=resampler, outdir=outdir, suffix='_16k'):\n",
    "    header = dict(fits.getheader(specpath, ext=0))\n",
    "    spec = Spectrum1D(spectral_axis=model_wls, flux=fits.getdata(specpath, ext=0) << u.Unit(header['BUNIT']))\n",
    "    newspec = resampler(spec, data_wls)\n",
    "\n",
    "    fluxtensor = torch.tensor(newspec.flux.value)\n",
    "    wltensor = torch.tensor(data_wls.value)\n",
    "\n",
    "    basename = specpath.name.split('.PHOENIX')[0]\n",
    "\n",
    "    tosave = {'header':header, 'wl':torch.tensor(data_wls), 'flux': fluxtensor}\n",
    "    pthout = outdir / (basename + '.pt')\n",
    "    if suffix:\n",
    "        pthout = pthout.with_stem(pthout.stem + suffix)\n",
    "    torch.save(tosave, pthout)\n",
    "\n",
    "    return pthout"
   ]
  },
  {
   "cell_type": "code",
   "execution_count": 15,
   "id": "7609c8c5-b318-4f2e-9dec-d6af6a54e70f",
   "metadata": {},
   "outputs": [
    {
     "data": {
      "text/plain": [
       "PosixPath('resampled_tensors/lte02300-0.00+0.5.pt')"
      ]
     },
     "execution_count": 15,
     "metadata": {},
     "output_type": "execute_result"
    }
   ],
   "source": [
    "interpolate_and_save_spectrum(allspecpaths[0])"
   ]
  },
  {
   "cell_type": "code",
   "execution_count": 16,
   "id": "9c0a960c-8371-4f7e-8dfb-5eb015cdcb64",
   "metadata": {},
   "outputs": [
    {
     "data": {
      "text/plain": [
       "(7508, 7559)"
      ]
     },
     "execution_count": 16,
     "metadata": {},
     "output_type": "execute_result"
    }
   ],
   "source": [
    "tointerpolate = [p for p in allspecpaths if 'BUNIT' in fits.getheader(p)]\n",
    "len(tointerpolate), len(allspecpaths)"
   ]
  },
  {
   "cell_type": "code",
   "execution_count": 17,
   "id": "1c72d963-82d6-41b9-8984-deded7315680",
   "metadata": {},
   "outputs": [
    {
     "data": {
      "application/vnd.jupyter.widget-view+json": {
       "model_id": "9f89f3e25d7847a486f240e812cf59ed",
       "version_major": 2,
       "version_minor": 0
      },
      "text/plain": [
       "  0%|          | 0/7508 [00:00<?, ?it/s]"
      ]
     },
     "metadata": {},
     "output_type": "display_data"
    },
    {
     "data": {
      "text/plain": [
       "7508"
      ]
     },
     "execution_count": 17,
     "metadata": {},
     "output_type": "execute_result"
    }
   ],
   "source": [
    "with multiprocessing.Pool(16) as pool:\n",
    "      results = list(tqdm(pool.imap(interpolate_and_save_spectrum, tointerpolate), total=len(tointerpolate)))\n",
    "len(results)"
   ]
  },
  {
   "cell_type": "markdown",
   "id": "5f6c9103-92b8-41aa-b63c-71ead8be2ea4",
   "metadata": {},
   "source": [
    "And a 2k version for quicker experiments"
   ]
  },
  {
   "cell_type": "code",
   "execution_count": 24,
   "id": "89dfa304-c689-4297-9b87-708a707ae525",
   "metadata": {},
   "outputs": [
    {
     "name": "stderr",
     "output_type": "stream",
     "text": [
      "WARNING: UnitsWarning: 'erg/s/cm^2/cm' contains multiple slashes, which is discouraged by the FITS standard [astropy.units.format.generic]\n"
     ]
    },
    {
     "data": {
      "text/plain": [
       "PosixPath('resampled_tensors/lte02300-0.00+0.5_2k.pt')"
      ]
     },
     "execution_count": 24,
     "metadata": {},
     "output_type": "execute_result"
    }
   ],
   "source": [
    "data_wls_2k = np.linspace(9000, 19500, 2048) *u.angstrom\n",
    "\n",
    "interpolate_and_save_spectrum(allspecpaths[0], data_wls=data_wls_2k, suffix='_2k')"
   ]
  },
  {
   "cell_type": "code",
   "execution_count": 36,
   "id": "c2df728a-e2ee-470e-bc70-a52018fa6015",
   "metadata": {
    "scrolled": true
   },
   "outputs": [
    {
     "data": {
      "application/vnd.jupyter.widget-view+json": {
       "model_id": "313ec003457a443f9f6ea13f891ea9d2",
       "version_major": 2,
       "version_minor": 0
      },
      "text/plain": [
       "  0%|          | 0/7508 [00:00<?, ?it/s]"
      ]
     },
     "metadata": {},
     "output_type": "display_data"
    },
    {
     "name": "stderr",
     "output_type": "stream",
     "text": [
      "WARNINGWARNINGWARNINGWARNINGWARNINGWARNINGWARNINGWARNINGWARNINGWARNINGWARNINGWARNING: UnitsWarning: 'erg/s/cm^2/cm' contains multiple slashes, which is discouraged by the FITS standard [astropy.units.format.generic]: UnitsWarning: 'erg/s/cm^2/cm' contains multiple slashes, which is discouraged by the FITS standard [astropy.units.format.generic]: UnitsWarning: 'erg/s/cm^2/cm' contains multiple slashes, which is discouraged by the FITS standard [astropy.units.format.generic]: UnitsWarning: 'erg/s/cm^2/cm' contains multiple slashes, which is discouraged by the FITS standard [astropy.units.format.generic]: UnitsWarning: 'erg/s/cm^2/cm' contains multiple slashes, which is discouraged by the FITS standard [astropy.units.format.generic]: UnitsWarning: 'erg/s/cm^2/cm' contains multiple slashes, which is discouraged by the FITS standard [astropy.units.format.generic]: UnitsWarning: 'erg/s/cm^2/cm' contains multiple slashes, which is discouraged by the FITS standard [astropy.units.format.generic]: UnitsWarning: 'erg/s/cm^2/cm' contains multiple slashes, which is discouraged by the FITS standard [astropy.units.format.generic]: UnitsWarning: 'erg/s/cm^2/cm' contains multiple slashes, which is discouraged by the FITS standard [astropy.units.format.generic]\n",
      "\n",
      ": UnitsWarning: 'erg/s/cm^2/cm' contains multiple slashes, which is discouraged by the FITS standard [astropy.units.format.generic]: UnitsWarning: 'erg/s/cm^2/cm' contains multiple slashes, which is discouraged by the FITS standard [astropy.units.format.generic]: UnitsWarning: 'erg/s/cm^2/cm' contains multiple slashes, which is discouraged by the FITS standard [astropy.units.format.generic]\n",
      "\n",
      "\n",
      "\n",
      "\n",
      "\n",
      "\n",
      "WARNING\n",
      "\n",
      "\n",
      ": UnitsWarning: 'erg/s/cm^2/cm' contains multiple slashes, which is discouraged by the FITS standard [astropy.units.format.generic]\n",
      "WARNING: UnitsWarning: 'erg/s/cm^2/cm' contains multiple slashes, which is discouraged by the FITS standard [astropy.units.format.generic]\n",
      "WARNINGWARNING: UnitsWarning: 'erg/s/cm^2/cm' contains multiple slashes, which is discouraged by the FITS standard [astropy.units.format.generic]: UnitsWarning: 'erg/s/cm^2/cm' contains multiple slashes, which is discouraged by the FITS standard [astropy.units.format.generic]\n",
      "\n"
     ]
    },
    {
     "data": {
      "text/plain": [
       "7508"
      ]
     },
     "execution_count": 36,
     "metadata": {},
     "output_type": "execute_result"
    }
   ],
   "source": [
    "interpolate_and_save_spectrum_2k = functools.partial(interpolate_and_save_spectrum, data_wls=data_wls_2k, suffix='_2k')\n",
    "\n",
    "with multiprocessing.Pool(16) as pool:\n",
    "      results = list(tqdm(pool.imap(interpolate_and_save_spectrum_2k, tointerpolate), total=len(tointerpolate)))\n",
    "len(results)"
   ]
  }
 ],
 "metadata": {
  "kernelspec": {
   "display_name": "Python 3 (ipykernel)",
   "language": "python",
   "name": "python3"
  },
  "language_info": {
   "codemirror_mode": {
    "name": "ipython",
    "version": 3
   },
   "file_extension": ".py",
   "mimetype": "text/x-python",
   "name": "python",
   "nbconvert_exporter": "python",
   "pygments_lexer": "ipython3",
   "version": "3.11.6"
  }
 },
 "nbformat": 4,
 "nbformat_minor": 5
}
